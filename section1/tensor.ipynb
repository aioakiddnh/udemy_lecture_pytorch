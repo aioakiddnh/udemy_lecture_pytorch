{
  "nbformat": 4,
  "nbformat_minor": 0,
  "metadata": {
    "colab": {
      "name": "tensor.ipynb",
      "provenance": [],
      "collapsed_sections": [],
      "include_colab_link": true
    },
    "kernelspec": {
      "name": "python3",
      "display_name": "Python 3"
    }
  },
  "cells": [
    {
      "cell_type": "markdown",
      "metadata": {
        "id": "view-in-github",
        "colab_type": "text"
      },
      "source": [
        "<a href=\"https://colab.research.google.com/github/aioakiddnh/udemy_lecture_pytorch/blob/master/section1/tensor.ipynb\" target=\"_parent\"><img src=\"https://colab.research.google.com/assets/colab-badge.svg\" alt=\"Open In Colab\"/></a>"
      ]
    },
    {
      "cell_type": "markdown",
      "metadata": {
        "id": "qBeK8bWc4a_9",
        "colab_type": "text"
      },
      "source": [
        "# Tensor\n",
        "TensorはPyTorchにおいて最も基本となるデータ構造です。  \n",
        "今回は、Tensorを生成したり、Tensor同士の計算をしたりするコードを練習します。"
      ]
    },
    {
      "cell_type": "markdown",
      "metadata": {
        "id": "ztIkOM_N5Bu7",
        "colab_type": "text"
      },
      "source": [
        "## パッケージの確認\n",
        "インストール済みのパッケージを全て表示します。  \n",
        "PyTorch（torch）がインストールされていることを確認しましょう。"
      ]
    },
    {
      "cell_type": "code",
      "metadata": {
        "id": "SLrzxL39qGie",
        "colab_type": "code",
        "colab": {
          "base_uri": "https://localhost:8080/",
          "height": 1000
        },
        "outputId": "e7f11420-9b37-43f6-a194-9b17433f3846"
      },
      "source": [
        "!pip list"
      ],
      "execution_count": 1,
      "outputs": [
        {
          "output_type": "stream",
          "text": [
            "Package                  Version        \n",
            "------------------------ ---------------\n",
            "absl-py                  0.9.0          \n",
            "alabaster                0.7.12         \n",
            "albumentations           0.1.12         \n",
            "altair                   4.1.0          \n",
            "argon2-cffi              20.1.0         \n",
            "asgiref                  3.2.10         \n",
            "astor                    0.8.1          \n",
            "astropy                  4.0.1.post1    \n",
            "astunparse               1.6.3          \n",
            "atari-py                 0.2.6          \n",
            "atomicwrites             1.4.0          \n",
            "attrs                    19.3.0         \n",
            "audioread                2.1.8          \n",
            "autograd                 1.3            \n",
            "Babel                    2.8.0          \n",
            "backcall                 0.2.0          \n",
            "beautifulsoup4           4.6.3          \n",
            "bleach                   3.1.5          \n",
            "blis                     0.4.1          \n",
            "bokeh                    2.1.1          \n",
            "boto                     2.49.0         \n",
            "boto3                    1.14.33        \n",
            "botocore                 1.17.33        \n",
            "Bottleneck               1.3.2          \n",
            "branca                   0.4.1          \n",
            "bs4                      0.0.1          \n",
            "CacheControl             0.12.6         \n",
            "cachetools               4.1.1          \n",
            "catalogue                1.0.0          \n",
            "certifi                  2020.6.20      \n",
            "cffi                     1.14.1         \n",
            "chainer                  7.4.0          \n",
            "chardet                  3.0.4          \n",
            "click                    7.1.2          \n",
            "cloudpickle              1.3.0          \n",
            "cmake                    3.12.0         \n",
            "cmdstanpy                0.4.0          \n",
            "colorlover               0.3.0          \n",
            "community                1.0.0b1        \n",
            "contextlib2              0.5.5          \n",
            "convertdate              2.2.1          \n",
            "coverage                 3.7.1          \n",
            "coveralls                0.5            \n",
            "crcmod                   1.7            \n",
            "cufflinks                0.17.3         \n",
            "cvxopt                   1.2.5          \n",
            "cvxpy                    1.0.31         \n",
            "cycler                   0.10.0         \n",
            "cymem                    2.0.3          \n",
            "Cython                   0.29.21        \n",
            "daft                     0.0.4          \n",
            "dask                     2.12.0         \n",
            "dataclasses              0.7            \n",
            "datascience              0.10.6         \n",
            "decorator                4.4.2          \n",
            "defusedxml               0.6.0          \n",
            "descartes                1.1.0          \n",
            "dill                     0.3.2          \n",
            "distributed              1.25.3         \n",
            "Django                   3.0.8          \n",
            "dlib                     19.18.0        \n",
            "dm-tree                  0.1.5          \n",
            "docopt                   0.6.2          \n",
            "docutils                 0.15.2         \n",
            "dopamine-rl              1.0.5          \n",
            "earthengine-api          0.1.229        \n",
            "easydict                 1.9            \n",
            "ecos                     2.0.7.post1    \n",
            "editdistance             0.5.3          \n",
            "en-core-web-sm           2.2.5          \n",
            "entrypoints              0.3            \n",
            "ephem                    3.7.7.1        \n",
            "et-xmlfile               1.0.1          \n",
            "fa2                      0.3.5          \n",
            "fancyimpute              0.4.3          \n",
            "fastai                   1.0.61         \n",
            "fastdtw                  0.3.4          \n",
            "fastprogress             0.2.4          \n",
            "fastrlock                0.5            \n",
            "fbprophet                0.6            \n",
            "feather-format           0.4.1          \n",
            "featuretools             0.4.1          \n",
            "filelock                 3.0.12         \n",
            "firebase-admin           4.1.0          \n",
            "fix-yahoo-finance        0.0.22         \n",
            "Flask                    1.1.2          \n",
            "folium                   0.8.3          \n",
            "fsspec                   0.8.0          \n",
            "future                   0.16.0         \n",
            "gast                     0.3.3          \n",
            "GDAL                     2.2.2          \n",
            "gdown                    3.6.4          \n",
            "gensim                   3.6.0          \n",
            "geographiclib            1.50           \n",
            "geopy                    1.17.0         \n",
            "gin-config               0.3.0          \n",
            "glob2                    0.7            \n",
            "google                   2.0.3          \n",
            "google-api-core          1.16.0         \n",
            "google-api-python-client 1.7.12         \n",
            "google-auth              1.17.2         \n",
            "google-auth-httplib2     0.0.4          \n",
            "google-auth-oauthlib     0.4.1          \n",
            "google-cloud-bigquery    1.21.0         \n",
            "google-cloud-core        1.0.3          \n",
            "google-cloud-datastore   1.8.0          \n",
            "google-cloud-firestore   1.7.0          \n",
            "google-cloud-language    1.2.0          \n",
            "google-cloud-storage     1.18.1         \n",
            "google-cloud-translate   1.5.0          \n",
            "google-colab             1.0.0          \n",
            "google-pasta             0.2.0          \n",
            "google-resumable-media   0.4.1          \n",
            "googleapis-common-protos 1.52.0         \n",
            "googledrivedownloader    0.4            \n",
            "graphviz                 0.10.1         \n",
            "grpcio                   1.30.0         \n",
            "gspread                  3.0.1          \n",
            "gspread-dataframe        3.0.7          \n",
            "gym                      0.17.2         \n",
            "h5py                     2.10.0         \n",
            "HeapDict                 1.0.1          \n",
            "holidays                 0.9.12         \n",
            "holoviews                1.13.3         \n",
            "html5lib                 1.0.1          \n",
            "httpimport               0.5.18         \n",
            "httplib2                 0.17.4         \n",
            "httplib2shim             0.0.3          \n",
            "humanize                 0.5.1          \n",
            "hyperopt                 0.1.2          \n",
            "ideep4py                 2.0.0.post3    \n",
            "idna                     2.10           \n",
            "image                    1.5.32         \n",
            "imageio                  2.4.1          \n",
            "imagesize                1.2.0          \n",
            "imbalanced-learn         0.4.3          \n",
            "imblearn                 0.0            \n",
            "imgaug                   0.2.9          \n",
            "importlib-metadata       1.7.0          \n",
            "imutils                  0.5.3          \n",
            "inflect                  2.1.0          \n",
            "iniconfig                1.0.1          \n",
            "intel-openmp             2020.0.133     \n",
            "intervaltree             2.1.0          \n",
            "ipykernel                4.10.1         \n",
            "ipython                  5.5.0          \n",
            "ipython-genutils         0.2.0          \n",
            "ipython-sql              0.3.9          \n",
            "ipywidgets               7.5.1          \n",
            "itsdangerous             1.1.0          \n",
            "jax                      0.1.73         \n",
            "jaxlib                   0.1.52         \n",
            "jdcal                    1.4.1          \n",
            "jedi                     0.17.2         \n",
            "jieba                    0.42.1         \n",
            "Jinja2                   2.11.2         \n",
            "jmespath                 0.10.0         \n",
            "joblib                   0.16.0         \n",
            "jpeg4py                  0.1.4          \n",
            "jsonschema               2.6.0          \n",
            "jupyter                  1.0.0          \n",
            "jupyter-client           5.3.5          \n",
            "jupyter-console          5.2.0          \n",
            "jupyter-core             4.6.3          \n",
            "kaggle                   1.5.6          \n",
            "kapre                    0.1.3.1        \n",
            "Keras                    2.4.3          \n",
            "Keras-Preprocessing      1.1.2          \n",
            "keras-vis                0.4.1          \n",
            "kiwisolver               1.2.0          \n",
            "knnimpute                0.1.0          \n",
            "librosa                  0.6.3          \n",
            "lightgbm                 2.2.3          \n",
            "llvmlite                 0.31.0         \n",
            "lmdb                     0.98           \n",
            "lucid                    0.3.8          \n",
            "LunarCalendar            0.0.9          \n",
            "lxml                     4.2.6          \n",
            "Markdown                 3.2.2          \n",
            "MarkupSafe               1.1.1          \n",
            "matplotlib               3.2.2          \n",
            "matplotlib-venn          0.11.5         \n",
            "missingno                0.4.2          \n",
            "mistune                  0.8.4          \n",
            "mizani                   0.6.0          \n",
            "mkl                      2019.0         \n",
            "mlxtend                  0.14.0         \n",
            "more-itertools           8.4.0          \n",
            "moviepy                  0.2.3.5        \n",
            "mpmath                   1.1.0          \n",
            "msgpack                  1.0.0          \n",
            "multiprocess             0.70.10        \n",
            "multitasking             0.0.9          \n",
            "murmurhash               1.0.2          \n",
            "music21                  5.5.0          \n",
            "natsort                  5.5.0          \n",
            "nbconvert                5.6.1          \n",
            "nbformat                 5.0.7          \n",
            "networkx                 2.4            \n",
            "nibabel                  3.0.2          \n",
            "nltk                     3.2.5          \n",
            "notebook                 5.3.1          \n",
            "np-utils                 0.5.12.1       \n",
            "numba                    0.48.0         \n",
            "numexpr                  2.7.1          \n",
            "numpy                    1.18.5         \n",
            "nvidia-ml-py3            7.352.0        \n",
            "oauth2client             4.1.3          \n",
            "oauthlib                 3.1.0          \n",
            "okgrade                  0.4.3          \n",
            "opencv-contrib-python    4.1.2.30       \n",
            "opencv-python            4.1.2.30       \n",
            "openpyxl                 2.5.9          \n",
            "opt-einsum               3.3.0          \n",
            "osqp                     0.6.1          \n",
            "packaging                20.4           \n",
            "palettable               3.3.0          \n",
            "pandas                   1.0.5          \n",
            "pandas-datareader        0.8.1          \n",
            "pandas-gbq               0.11.0         \n",
            "pandas-profiling         1.4.1          \n",
            "pandocfilters            1.4.2          \n",
            "panel                    0.9.7          \n",
            "param                    1.9.3          \n",
            "parso                    0.7.1          \n",
            "pathlib                  1.0.1          \n",
            "patsy                    0.5.1          \n",
            "pexpect                  4.8.0          \n",
            "pickleshare              0.7.5          \n",
            "Pillow                   7.0.0          \n",
            "pip                      19.3.1         \n",
            "pip-tools                4.5.1          \n",
            "plac                     1.1.3          \n",
            "plotly                   4.4.1          \n",
            "plotnine                 0.6.0          \n",
            "pluggy                   0.7.1          \n",
            "portpicker               1.3.1          \n",
            "prefetch-generator       1.0.1          \n",
            "preshed                  3.0.2          \n",
            "prettytable              0.7.2          \n",
            "progressbar2             3.38.0         \n",
            "prometheus-client        0.8.0          \n",
            "promise                  2.3            \n",
            "prompt-toolkit           1.0.18         \n",
            "protobuf                 3.12.4         \n",
            "psutil                   5.4.8          \n",
            "psycopg2                 2.7.6.1        \n",
            "ptyprocess               0.6.0          \n",
            "py                       1.9.0          \n",
            "pyarrow                  0.14.1         \n",
            "pyasn1                   0.4.8          \n",
            "pyasn1-modules           0.2.8          \n",
            "pycocotools              2.0.1          \n",
            "pycparser                2.20           \n",
            "pyct                     0.4.6          \n",
            "pydata-google-auth       1.1.0          \n",
            "pydot                    1.3.0          \n",
            "pydot-ng                 2.0.0          \n",
            "pydotplus                2.0.2          \n",
            "PyDrive                  1.3.1          \n",
            "pyemd                    0.5.1          \n",
            "pyglet                   1.5.0          \n",
            "Pygments                 2.1.3          \n",
            "pygobject                3.26.1         \n",
            "pymc3                    3.7            \n",
            "PyMeeus                  0.3.7          \n",
            "pymongo                  3.11.0         \n",
            "pymystem3                0.2.0          \n",
            "PyOpenGL                 3.1.5          \n",
            "pyparsing                2.4.7          \n",
            "pyrsistent               0.16.0         \n",
            "pysndfile                1.3.8          \n",
            "PySocks                  1.7.1          \n",
            "pystan                   2.19.1.1       \n",
            "pytest                   3.6.4          \n",
            "python-apt               1.6.5+ubuntu0.3\n",
            "python-chess             0.23.11        \n",
            "python-dateutil          2.8.1          \n",
            "python-louvain           0.14           \n",
            "python-slugify           4.0.1          \n",
            "python-utils             2.4.0          \n",
            "pytz                     2018.9         \n",
            "pyviz-comms              0.7.6          \n",
            "PyWavelets               1.1.1          \n",
            "PyYAML                   3.13           \n",
            "pyzmq                    19.0.2         \n",
            "qtconsole                4.7.5          \n",
            "QtPy                     1.9.0          \n",
            "regex                    2019.12.20     \n",
            "requests                 2.23.0         \n",
            "requests-oauthlib        1.3.0          \n",
            "resampy                  0.2.2          \n",
            "retrying                 1.3.3          \n",
            "rpy2                     3.2.7          \n",
            "rsa                      4.6            \n",
            "s3fs                     0.4.2          \n",
            "s3transfer               0.3.3          \n",
            "scikit-image             0.16.2         \n",
            "scikit-learn             0.22.2.post1   \n",
            "scipy                    1.4.1          \n",
            "screen-resolution-extra  0.0.0          \n",
            "scs                      2.1.2          \n",
            "seaborn                  0.10.1         \n",
            "Send2Trash               1.5.0          \n",
            "setuptools               49.2.0         \n",
            "setuptools-git           1.2            \n",
            "Shapely                  1.7.0          \n",
            "simplegeneric            0.8.1          \n",
            "six                      1.15.0         \n",
            "sklearn                  0.0            \n",
            "sklearn-pandas           1.8.0          \n",
            "smart-open               2.1.0          \n",
            "snowballstemmer          2.0.0          \n",
            "sortedcontainers         2.2.2          \n",
            "spacy                    2.2.4          \n",
            "Sphinx                   1.8.5          \n",
            "sphinxcontrib-websupport 1.2.3          \n",
            "SQLAlchemy               1.3.18         \n",
            "sqlparse                 0.3.1          \n",
            "srsly                    1.0.2          \n",
            "statsmodels              0.10.2         \n",
            "sympy                    1.1.1          \n",
            "tables                   3.4.4          \n",
            "tabulate                 0.8.7          \n",
            "tblib                    1.7.0          \n",
            "tensorboard              2.3.0          \n",
            "tensorboard-plugin-wit   1.7.0          \n",
            "tensorboardcolab         0.0.22         \n",
            "tensorflow               2.3.0          \n",
            "tensorflow-addons        0.8.3          \n",
            "tensorflow-datasets      2.1.0          \n",
            "tensorflow-estimator     2.3.0          \n",
            "tensorflow-gcs-config    2.3.0          \n",
            "tensorflow-hub           0.8.0          \n",
            "tensorflow-metadata      0.22.2         \n",
            "tensorflow-privacy       0.2.2          \n",
            "tensorflow-probability   0.11.0         \n",
            "termcolor                1.1.0          \n",
            "terminado                0.8.3          \n",
            "testpath                 0.4.4          \n",
            "text-unidecode           1.3            \n",
            "textblob                 0.15.3         \n",
            "textgenrnn               1.4.1          \n",
            "Theano                   1.0.5          \n",
            "thinc                    7.4.0          \n",
            "tifffile                 2020.7.24      \n",
            "toml                     0.10.1         \n",
            "toolz                    0.10.0         \n",
            "torch                    1.6.0+cu101    \n",
            "torchsummary             1.5.1          \n",
            "torchtext                0.3.1          \n",
            "torchvision              0.7.0+cu101    \n",
            "tornado                  5.1.1          \n",
            "tqdm                     4.41.1         \n",
            "traitlets                4.3.3          \n",
            "tweepy                   3.6.0          \n",
            "typeguard                2.7.1          \n",
            "typing-extensions        3.7.4.2        \n",
            "tzlocal                  1.5.1          \n",
            "umap-learn               0.4.6          \n",
            "uritemplate              3.0.1          \n",
            "urllib3                  1.24.3         \n",
            "vega-datasets            0.8.0          \n",
            "wasabi                   0.7.1          \n",
            "wcwidth                  0.2.5          \n",
            "webencodings             0.5.1          \n",
            "Werkzeug                 1.0.1          \n",
            "wheel                    0.34.2         \n",
            "widgetsnbextension       3.5.1          \n",
            "wordcloud                1.5.0          \n",
            "wrapt                    1.12.1         \n",
            "xarray                   0.15.1         \n",
            "xgboost                  0.90           \n",
            "xkit                     0.0.0          \n",
            "xlrd                     1.1.0          \n",
            "xlwt                     1.3.0          \n",
            "yellowbrick              0.9.1          \n",
            "zict                     2.0.0          \n",
            "zipp                     3.1.0          \n"
          ],
          "name": "stdout"
        }
      ]
    },
    {
      "cell_type": "markdown",
      "metadata": {
        "id": "EMC135bx6E3u",
        "colab_type": "text"
      },
      "source": [
        "## Tensorの生成\n",
        "torchのtensor関数によりTensorを生成します。  \n",
        "以下のセルではPythonのリストからTensorを生成します。  \n",
        "また、type( )により型を確認します。  "
      ]
    },
    {
      "cell_type": "code",
      "metadata": {
        "id": "xCg7mgXPqBc8",
        "colab_type": "code",
        "colab": {
          "base_uri": "https://localhost:8080/",
          "height": 34
        },
        "outputId": "a78e242c-ae3e-4bcd-b5eb-7f1084f0851c"
      },
      "source": [
        "#pytorchをインポート #torchという名前でpytorchの様々な機能を使う事が出来る。\n",
        "import torch\n",
        "\n",
        "#pythonのリスト[1,2,3]をpytorchのtensor型に変換\n",
        "a = torch.tensor([1,2,3])\n",
        "\n",
        "print(a, type(a))"
      ],
      "execution_count": 24,
      "outputs": [
        {
          "output_type": "stream",
          "text": [
            "tensor([1, 2, 3]) <class 'torch.Tensor'>\n"
          ],
          "name": "stdout"
        }
      ]
    },
    {
      "cell_type": "markdown",
      "metadata": {
        "id": "6LcfIq4nWfG2",
        "colab_type": "text"
      },
      "source": [
        "他にも、様々な方法でTensorを生成することができます。"
      ]
    },
    {
      "cell_type": "code",
      "metadata": {
        "id": "CzMAJQlYnjba",
        "colab_type": "code",
        "colab": {
          "base_uri": "https://localhost:8080/",
          "height": 187
        },
        "outputId": "5794443e-8f51-4ecc-fb71-f08198ed8749"
      },
      "source": [
        "# 2重のリストから生成\n",
        "b = torch.tensor([[1, 2],\n",
        "                  [3, 4]])\n",
        "print(b)\n",
        "\n",
        "# dtypeを指定し、倍精度のTensorにする\n",
        "c = torch.tensor([[1, 2],\n",
        "                  [3, 4]], dtype=torch.float64)\n",
        "print(c)\n",
        "\n",
        "# 0から9まで(0以上10未満)の数値で初期化\n",
        "d = torch.arange(0, 10)\n",
        "print(d)\n",
        "\n",
        "# すべての値が0の、2×3のTensor\n",
        "e = torch.zeros(2, 3)\n",
        "print(e)\n",
        "\n",
        "# すべての値が乱数の、2×3のTensor\n",
        "f = torch.rand(2, 3)\n",
        "print(f)\n",
        "\n",
        "# Tensorの形状はsizeメソッドで取得\n",
        "print(f.size())"
      ],
      "execution_count": 5,
      "outputs": [
        {
          "output_type": "stream",
          "text": [
            "tensor([[1, 2],\n",
            "        [3, 4]])\n",
            "tensor([[1., 2.],\n",
            "        [3., 4.]], dtype=torch.float64)\n",
            "tensor([0, 1, 2, 3, 4, 5, 6, 7, 8, 9])\n",
            "tensor([[0., 0., 0.],\n",
            "        [0., 0., 0.]])\n",
            "tensor([[0.4930, 0.5235, 0.9121],\n",
            "        [0.1154, 0.3974, 0.4563]])\n",
            "torch.Size([2, 3])\n"
          ],
          "name": "stdout"
        }
      ]
    },
    {
      "cell_type": "markdown",
      "metadata": {
        "id": "b-TrDK5qewJp",
        "colab_type": "text"
      },
      "source": [
        "## TensorとNumPyの配列の変換\n",
        "numpy()メソッドでTensorをNumPyの配列に変換することができます。  \n",
        "また、from_numpy( )関数でNumPyの配列をTensorに変換することができます。"
      ]
    },
    {
      "cell_type": "code",
      "metadata": {
        "id": "CniiGbD-p2KE",
        "colab_type": "code",
        "colab": {
          "base_uri": "https://localhost:8080/",
          "height": 85
        },
        "outputId": "8404b085-3331-42d4-8edd-76afdb0b1b74"
      },
      "source": [
        "# Tensor → NumPy\n",
        "a = torch.tensor([[1, 2],\n",
        "                  [3, 4]])\n",
        "\n",
        "# tensorからnumpyの配列に変換\n",
        "b = a.numpy()\n",
        "print(b)\n",
        "\n",
        "# NumPy → Tensor\n",
        "c = torch.from_numpy(b)\n",
        "print(c)"
      ],
      "execution_count": 6,
      "outputs": [
        {
          "output_type": "stream",
          "text": [
            "[[1 2]\n",
            " [3 4]]\n",
            "tensor([[1, 2],\n",
            "        [3, 4]])\n"
          ],
          "name": "stdout"
        }
      ]
    },
    {
      "cell_type": "markdown",
      "metadata": {
        "id": "CgpWSmhXnas_",
        "colab_type": "text"
      },
      "source": [
        "## 範囲を指定してアクセス\n",
        "様々な方法で、Tensorの要素に範囲を指定してアクセスすることができます。"
      ]
    },
    {
      "cell_type": "code",
      "metadata": {
        "id": "ybNQZ-ay-zqu",
        "colab_type": "code",
        "colab": {
          "base_uri": "https://localhost:8080/",
          "height": 204
        },
        "outputId": "dbfe686a-d3f2-4682-fb8e-9d4212d6d310"
      },
      "source": [
        "a = torch.tensor([[1, 2, 3],\n",
        "                  [4, 5, 6]])\n",
        "\n",
        "# 2つのインデックスを指定\n",
        "print(a[0, 1])\n",
        "\n",
        "# 範囲を指定 \n",
        "# a[行, 列]  # 行：1以上2未満、列：2未満\n",
        "print(a[1:2, :2])\n",
        "\n",
        "# リストで複数のインデックスを指定\n",
        "# 「：」すべて #[0, 2] 0列目と2列目\n",
        "print(a[:, [0, 2]])\n",
        "\n",
        "# 3より大きい要素のみを指定\n",
        "print(a[a>3])\n",
        "\n",
        "# 要素の変更\n",
        "a[0, 2] = 11\n",
        "print(a)\n",
        "\n",
        "# 要素の一括変更\n",
        "a[:, 1] = 22\n",
        "print(a)\n",
        "\n",
        "# 10より大きい要素のみ変更\n",
        "a[a>10] = 33\n",
        "print(a)"
      ],
      "execution_count": 15,
      "outputs": [
        {
          "output_type": "stream",
          "text": [
            "tensor(2)\n",
            "tensor([[4, 5]])\n",
            "tensor([[1, 3],\n",
            "        [4, 6]])\n",
            "tensor([4, 5, 6])\n",
            "tensor([[ 1,  2, 11],\n",
            "        [ 4,  5,  6]])\n",
            "tensor([[ 1, 22, 11],\n",
            "        [ 4, 22,  6]])\n",
            "tensor([[ 1, 33, 33],\n",
            "        [ 4, 33,  6]])\n"
          ],
          "name": "stdout"
        }
      ]
    },
    {
      "cell_type": "markdown",
      "metadata": {
        "id": "2HQMM_Fh02of",
        "colab_type": "text"
      },
      "source": [
        "## Tensorの演算\n",
        "Tensorによりベクトルや行列を表現することができます。  \n",
        "これらの演算は、一定のルールに基づき行われます。  "
      ]
    },
    {
      "cell_type": "code",
      "metadata": {
        "id": "McnDaZNYAtM6",
        "colab_type": "code",
        "colab": {
          "base_uri": "https://localhost:8080/",
          "height": 187
        },
        "outputId": "516e6bb3-f33c-4e58-a68a-ac057bbe0b3d"
      },
      "source": [
        "# ベクトル\n",
        "a = torch.tensor([1, 2, 3]) #1×3\n",
        "b = torch.tensor([4, 5, 6]) #1×3\n",
        "\n",
        "# 行列\n",
        "c = torch.tensor([[6, 5, 4],\n",
        "                  [3, 2, 1]]) #2×3\n",
        "\n",
        "\n",
        "# ベクトルとスカラーの演算 # aの全ての要素に3が足される\n",
        "print(a + 3)\n",
        "\n",
        "# ベクトル同士の演算 # aとbの各要素同士を足し合わせる\n",
        "print(a + b)\n",
        "\n",
        "# 行列とスカラーの演算 # cの各要素に2が足される\n",
        "print(c + 2)\n",
        "\n",
        "# 行列とベクトルの演算（ブロードキャスト）\n",
        "# cの各行にベクトルaが足し合わされる。\n",
        "print(c + a)\n",
        "print(a + c) #どちらも同じ結果\n",
        "\n",
        "# 行列同士の演算\n",
        "print(c + c)\n"
      ],
      "execution_count": 21,
      "outputs": [
        {
          "output_type": "stream",
          "text": [
            "tensor([4, 5, 6])\n",
            "tensor([5, 7, 9])\n",
            "tensor([[8, 7, 6],\n",
            "        [5, 4, 3]])\n",
            "tensor([[7, 7, 7],\n",
            "        [4, 4, 4]])\n",
            "tensor([[7, 7, 7],\n",
            "        [4, 4, 4]])\n",
            "tensor([[12, 10,  8],\n",
            "        [ 6,  4,  2]])\n"
          ],
          "name": "stdout"
        }
      ]
    },
    {
      "cell_type": "markdown",
      "metadata": {
        "id": "r0S-nN_c8MKr",
        "colab_type": "text"
      },
      "source": [
        "## 様々な値の計算\n",
        "平均値、合計値、最大値、最小値など様々な値を計算する関数とメソッドが用意されています。\n"
      ]
    },
    {
      "cell_type": "code",
      "metadata": {
        "id": "is5T0oajCNCE",
        "colab_type": "code",
        "colab": {
          "base_uri": "https://localhost:8080/",
          "height": 119
        },
        "outputId": "f050355e-1b44-4fc8-ac5c-a5f93cc6c8bb"
      },
      "source": [
        "a = torch.tensor([[1, 2, 3],\n",
        "                  [4, 5, 6.]])\n",
        "\n",
        "# 平均値を求める関数\n",
        "m = torch.mean(a) # mはtensorのため、item()を使って要素を取り出す。\n",
        "print(m.item())  # item()で値を取り出す\n",
        "\n",
        "# 平均値を求めるメソッド\n",
        "m = a.mean()\n",
        "print(m.item())\n",
        "\n",
        "# 列ごとの平均値 #0だと列、1だと行\n",
        "print(a.mean(0))\n",
        "\n",
        "# 合計値\n",
        "print(torch.sum(a).item())\n",
        "\n",
        "# 最大値\n",
        "print(torch.max(a).item())\n",
        "\n",
        "# 最小値\n",
        "print(torch.min(a).item())\n"
      ],
      "execution_count": 36,
      "outputs": [
        {
          "output_type": "stream",
          "text": [
            "3.5\n",
            "3.5\n",
            "tensor([2.5000, 3.5000, 4.5000])\n",
            "21.0\n",
            "6.0\n",
            "1.0\n"
          ],
          "name": "stdout"
        }
      ]
    },
    {
      "cell_type": "code",
      "metadata": {
        "id": "MmB5nuejDByj",
        "colab_type": "code",
        "colab": {}
      },
      "source": [
        ""
      ],
      "execution_count": null,
      "outputs": []
    }
  ]
}