{
  "nbformat": 4,
  "nbformat_minor": 0,
  "metadata": {
    "colab": {
      "name": "dataloader.ipynb",
      "provenance": [],
      "collapsed_sections": [],
      "toc_visible": true,
      "include_colab_link": true
    },
    "kernelspec": {
      "name": "python3",
      "display_name": "Python 3"
    },
    "accelerator": "GPU"
  },
  "cells": [
    {
      "cell_type": "markdown",
      "metadata": {
        "id": "view-in-github",
        "colab_type": "text"
      },
      "source": [
        "<a href=\"https://colab.research.google.com/github/aioakiddnh/udemy_lecture_pytorch/blob/master/section3/dataloader.ipynb\" target=\"_parent\"><img src=\"https://colab.research.google.com/assets/colab-badge.svg\" alt=\"Open In Colab\"/></a>"
      ]
    },
    {
      "cell_type": "markdown",
      "metadata": {
        "id": "Niaz8_W6OX34"
      },
      "source": [
        "# DataLoader\n",
        "DataLoaderを使うと、データの読み込みやミニバッチ法の実装などが大幅に楽になります。  \n",
        "今回は、DataLoaderを使ってデータを扱い、手書き文字の認識を行います。  \n",
        "なお、今回から学習はGPUを使って行います。  \n"
      ]
    },
    {
      "cell_type": "markdown",
      "metadata": {
        "id": "x9Gzbn25XSlF"
      },
      "source": [
        "## データの読み込み\n",
        "`torchvision.datasets`を使って手書き文字のデータを読み込み、DataLoaderを設定します。  \n",
        "`torchvision.datasets`にはMNISTの他にも様々なデータセットが用意されています。  \n",
        "https://pytorch.org/docs/stable/torchvision/datasets.html\n"
      ]
    },
    {
      "cell_type": "code",
      "metadata": {
        "id": "LDj92OA3sx-y",
        "colab": {
          "base_uri": "https://localhost:8080/"
        },
        "outputId": "53315778-53b4-4114-84b7-9c4f6e5b859a"
      },
      "source": [
        "import torch #pytorchのインポート\n",
        "from torchvision.datasets import MNIST #データセットからMNISTのインポート\n",
        "from torchvision import transforms #前処理のためにtransformsをインポート\n",
        "from torch.utils.data import DataLoader\n",
        "\n",
        "# 訓練データを取得\n",
        "mnist_train = MNIST(\"./data\", \n",
        "                    train=True, download=True,\n",
        "                    transform=transforms.ToTensor()) #transforms.ToTensor()：Tensorに変換。変換しないとpil形式の画像データになる。\n",
        "# テストデータの取得\n",
        "mnist_test = MNIST(\"./data\",\n",
        "                   train=False, download=True,\n",
        "                   transform=transforms.ToTensor())\n",
        "print(\"訓練データの数:\", len(mnist_train), \"テストデータの数:\", len(mnist_test))\n",
        "\n",
        "# DataLoaderの設定\n",
        "img_size = 28\n",
        "batch_size = 256 #バッチサイズは少々多めに設定。GPUの威力を分かりやすくするため。\n",
        "train_loader = DataLoader(mnist_train,\n",
        "                          batch_size=batch_size,\n",
        "                          shuffle=True) #shuffle=True：訓練データからランダムにバッチが取り出されるようになる。\n",
        "test_loader = DataLoader(mnist_test,\n",
        "                          batch_size=batch_size,\n",
        "                          shuffle=False)"
      ],
      "execution_count": 7,
      "outputs": [
        {
          "output_type": "stream",
          "text": [
            "訓練データの数: 60000 テストデータの数: 10000\n"
          ],
          "name": "stdout"
        }
      ]
    },
    {
      "cell_type": "markdown",
      "metadata": {
        "id": "sFWHMOf2D4b1"
      },
      "source": [
        "手書き文字の画像サイズは、28×28になります。  \n",
        "\n"
      ]
    },
    {
      "cell_type": "markdown",
      "metadata": {
        "id": "FalXNYaJPkoE"
      },
      "source": [
        "## モデルの構築\n",
        "今回は、`nn.Module`モジュールを継承したクラスとして、モデルを構築します。  \n",
        "`.cuda()`により、モデルの計算はGPU上で行われるようになります。  "
      ]
    },
    {
      "cell_type": "code",
      "metadata": {
        "colab": {
          "base_uri": "https://localhost:8080/"
        },
        "id": "89n1tYXKbZ0M",
        "outputId": "f9fc6f9c-5546-4c04-acf0-0c19f5ba403c"
      },
      "source": [
        "import torch.nn as nn #ニューラルネットワーク\r\n",
        "import torch.nn.functional as F #活性化関数などが入っている。\r\n",
        "\r\n",
        "class Net(nn.Module): #nn.Moduleを継承\r\n",
        "    def __init__(self):\r\n",
        "        super().__init__() #継承元クラスのinitializerを実行\r\n",
        "        #↓層の設定\r\n",
        "        self.fc1 = nn.Linear(img_size*img_size, 1024) #全結合層：前の層のニューロンとすべて接続されている。 入力は画像のサイズ(28×28)。最初の中間層のニューロン数は1024。\r\n",
        "        self.fc2 = nn.Linear(1024, 512) # 全結合層 2つ目の中間層のニューロン数は512\r\n",
        "        self.fc3 = nn.Linear(512, 10) # 全結合層 出力層のニューロン数は10\r\n",
        "    \r\n",
        "    def forward(self, x): #順伝播\r\n",
        "        x = x.view(-1, img_size*img_size) # バッチサイズ×入力の数。 #形状を整える。viewはTensorの形状を変更するのに使う。バッチサイズは柔軟に対応するために-1(行の数を自動設定)\r\n",
        "        x = F.relu(self.fc1(x)) #全結合層の処理をした後、活性化関数のreluに入れてあげる。\r\n",
        "        x = F.relu(self.fc2(x)) #上の結果をfc2に入れて、またreluに入れる。\r\n",
        "        x = self.fc3(x) #最後にfc3に入れる。\r\n",
        "        return x\r\n",
        "    \r\n",
        "    #back word methodは無い。設定しなくても、自動微分機能で自動で計算してくれる。なので、順伝播のみforward methodで設定すれば良い。\r\n",
        "\r\n",
        "net = Net() #インスタンス生成\r\n",
        "net.cuda() #インスタンスに対してGPUを設定。pytorchでは、.cuda()という関数を設定するだけでこの計算がGPU上で行われるようになる。\r\n",
        "print(net)"
      ],
      "execution_count": 8,
      "outputs": [
        {
          "output_type": "stream",
          "text": [
            "Net(\n",
            "  (fc1): Linear(in_features=784, out_features=1024, bias=True)\n",
            "  (fc2): Linear(in_features=1024, out_features=512, bias=True)\n",
            "  (fc3): Linear(in_features=512, out_features=10, bias=True)\n",
            ")\n"
          ],
          "name": "stdout"
        }
      ]
    },
    {
      "cell_type": "markdown",
      "metadata": {
        "id": "qsW5zCKhQE9p"
      },
      "source": [
        "## 学習\n",
        "モデルを訓練します。  \n",
        "DataLoaderを使い、ミニバッチを取り出して訓練および評価を行います。  \n",
        "1エポックの中で何度もミニバッチを使って訓練が行われるので、ミニバッチ法が実装されていることになります。  \n",
        "学習には時間がかかりますので、編集→ノートブックの設定のハードウェアアクセラレーターでGPUを選択しましょう。\n"
      ]
    },
    {
      "cell_type": "code",
      "metadata": {
        "colab": {
          "base_uri": "https://localhost:8080/"
        },
        "id": "mdzBDUr_jfeO",
        "outputId": "2893b30d-8420-4833-b747-972ded1121df"
      },
      "source": [
        "from torch import optim #最適化アルゴリズムのoptimをインポート\r\n",
        "\r\n",
        "# 交差エントロピー誤差関数\r\n",
        "loss_fnc = nn.CrossEntropyLoss() #損失関数の設定を行う。 \r\n",
        "\r\n",
        "# SGD \r\n",
        "optimizer = optim.SGD(net.parameters(), lr=0.01) #最適化アルゴリズム #今回は一番シンプルなSGDを設定 #学習率lrは0.01 #引数としてパラメータを渡している。\r\n",
        "\r\n",
        "# 損失のログ\r\n",
        "record_loss_train = [] #訓練用\r\n",
        "record_loss_test = [] #テスト用\r\n",
        "\r\n",
        "# 学習\r\n",
        "for i in range(10): # 10エポック学習 #今回は訓練データの数が多いので10エポックのみにする。これ以上増えてしまうと、今回の講義の中で学習が終わらなくなってしまうので少なめにしている。\r\n",
        "    net.train() # 訓練モード\r\n",
        "    loss_train = 0 # 訓練用の誤差。最初0にしておく。\r\n",
        "    for j, (x, t) in enumerate(train_loader): # ミニバッチ(x, t)を取り出す。x:入力(画像), t:正解(ラベル)\r\n",
        "        x, t = x.cuda(), t.cuda() #GPU対応 #xとtがGPU上のメモリに配置される。\r\n",
        "        y = net(x) #先ほどGPU対応したnet()にxを入れることによってyを計算することが出来る。\r\n",
        "        loss = loss_fnc(y, t) #出力と正解を使って誤差を計算\r\n",
        "        loss_train += loss.item() #誤差の累積 #1エポック終了後の誤差とは違うが、いわゆるラーニングエラーと呼ばれる誤差をここでは計算している。\r\n",
        "        optimizer.zero_grad() #累積された勾配をすべて0に設定\r\n",
        "        loss.backward() #逆伝播が行われて各パラメータの勾配が計算される。\r\n",
        "        optimizer.step() #勾配を計算するだけではだめで、更新しないといけない。 step()でパラメータの更新\r\n",
        "    loss_train /= j+1 #1エポック終了後に、1エポック内のバッチの数で割ってあげることで平均をとっている。\r\n",
        "    record_loss_train.append(loss_train) #訓練誤差の記録。\r\n",
        "\r\n",
        "    net.eval() # 評価モード #1エポックごとに評価を行う。 #ここではパラメータの更新などは行われない。\r\n",
        "    loss_test = 0 # これに誤差を累積していく。\r\n",
        "    for j, (x, t) in enumerate(test_loader): # ミニバッチ(x, t)を取り出す。\r\n",
        "        x, t = x.cuda(), t.cuda()\r\n",
        "        y = net(x)\r\n",
        "        loss = loss_fnc(y, t)\r\n",
        "        loss_test += loss.item()\r\n",
        "    loss_test /= j+1\r\n",
        "    record_loss_test.append(loss_test)\r\n",
        "\r\n",
        "    if i%1 == 0:\r\n",
        "      print(\"Epoch:\", i, \"Loss_Train:\", loss_train, \"Loss_Test:\", loss_test) #エポックごとの結果。訓練誤差とテスト誤差の結果"
      ],
      "execution_count": 9,
      "outputs": [
        {
          "output_type": "stream",
          "text": [
            "Epoch: 0 Loss_Train: 2.222446347297506 Loss_Test: 2.101173633337021\n",
            "Epoch: 1 Loss_Train: 1.8398723333439928 Loss_Test: 1.454887929558754\n",
            "Epoch: 2 Loss_Train: 1.1278286261761443 Loss_Test: 0.8386905789375305\n",
            "Epoch: 3 Loss_Train: 0.7304400309603265 Loss_Test: 0.605303780734539\n",
            "Epoch: 4 Loss_Train: 0.5693780844515942 Loss_Test: 0.49696029908955097\n",
            "Epoch: 5 Loss_Train: 0.4868146588193609 Loss_Test: 0.4351027563214302\n",
            "Epoch: 6 Loss_Train: 0.4375170645561624 Loss_Test: 0.39882552791386844\n",
            "Epoch: 7 Loss_Train: 0.4044622806792564 Loss_Test: 0.37155286986380814\n",
            "Epoch: 8 Loss_Train: 0.3815412554335087 Loss_Test: 0.35200091134756806\n",
            "Epoch: 9 Loss_Train: 0.3632543979807103 Loss_Test: 0.3368161192163825\n"
          ],
          "name": "stdout"
        }
      ]
    },
    {
      "cell_type": "markdown",
      "metadata": {
        "id": "rJwwrWTw43rx"
      },
      "source": [
        "## 誤差の推移\n",
        "訓練データ、テストデータで誤差の推移をグラフ表示します。  "
      ]
    },
    {
      "cell_type": "code",
      "metadata": {
        "colab": {
          "base_uri": "https://localhost:8080/",
          "height": 279
        },
        "id": "37SUhn2711sM",
        "outputId": "a6129374-17c9-4fa0-cec3-1b4dea885f6f"
      },
      "source": [
        "import matplotlib.pyplot as plt\r\n",
        "\r\n",
        "plt.plot(range(len(record_loss_train)), record_loss_train, label=\"Train\")\r\n",
        "plt.plot(range(len(record_loss_test)), record_loss_test, label=\"Test\")\r\n",
        "plt.legend()\r\n",
        "\r\n",
        "plt.xlabel(\"Epochs\")\r\n",
        "plt.ylabel(\"Error\")\r\n",
        "plt.show()"
      ],
      "execution_count": 10,
      "outputs": [
        {
          "output_type": "display_data",
          "data": {
            "image/png": "[encoded data removed]",
            "text/plain": [
              "<Figure size 432x288 with 1 Axes>"
            ]
          },
          "metadata": {
            "tags": [],
            "needs_background": "light"
          }
        }
      ]
    },
    {
      "cell_type": "markdown",
      "metadata": {
        "id": "iMrpac0m4Nct"
      },
      "source": [
        "## 正解率\n",
        "モデルの性能を把握するため、テストデータ使い正解率を測定します。  "
      ]
    },
    {
      "cell_type": "code",
      "metadata": {
        "colab": {
          "base_uri": "https://localhost:8080/"
        },
        "id": "XqQd6c1pBRby",
        "outputId": "1bdc0bb6-f0dd-4d61-cd9c-30e00c9d0ca8"
      },
      "source": [
        "correct = 0\r\n",
        "total = 0\r\n",
        "for i, (x, t) in enumerate(test_loader):\r\n",
        "    x, t = x.cuda(), t.cuda() #GPU対応\r\n",
        "    x = x.view(-1, img_size*img_size)\r\n",
        "    y = net(x)\r\n",
        "    correct += (y.argmax(1) == t).sum().item()\r\n",
        "    total += len(x)\r\n",
        "print(\"正解率:\", str(correct/total*100) + \"%\")\r\n"
      ],
      "execution_count": 11,
      "outputs": [
        {
          "output_type": "stream",
          "text": [
            "正解率: 90.36%\n"
          ],
          "name": "stdout"
        }
      ]
    }
  ]
}