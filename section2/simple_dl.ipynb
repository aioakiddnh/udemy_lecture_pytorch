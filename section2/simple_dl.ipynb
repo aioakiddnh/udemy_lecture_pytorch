{
  "nbformat": 4,
  "nbformat_minor": 0,
  "metadata": {
    "colab": {
      "name": "simple_dl.ipynb",
      "provenance": [],
      "collapsed_sections": [],
      "include_colab_link": true
    },
    "kernelspec": {
      "name": "python3",
      "display_name": "Python 3"
    }
  },
  "cells": [
    {
      "cell_type": "markdown",
      "metadata": {
        "id": "view-in-github",
        "colab_type": "text"
      },
      "source": [
        "<a href=\"https://colab.research.google.com/github/aioakiddnh/udemy_lecture_pytorch/blob/master/section2/simple_dl.ipynb\" target=\"_parent\"><img src=\"https://colab.research.google.com/assets/colab-badge.svg\" alt=\"Open In Colab\"/></a>"
      ]
    },
    {
      "cell_type": "markdown",
      "metadata": {
        "id": "Niaz8_W6OX34",
        "colab_type": "text"
      },
      "source": [
        "# シンプルなディープラーニング\n",
        "PyTorchを使って簡単なディープラーニングを実装します。  \n",
        "今回は、ディープラーニングにより手書き文字の認識を行います。\n"
      ]
    },
    {
      "cell_type": "markdown",
      "metadata": {
        "colab_type": "text",
        "id": "x9Gzbn25XSlF"
      },
      "source": [
        "### 手書き文字画像の確認\n",
        "scikit-learnから、手書き数字の画像データを読み込んで表示します。  "
      ]
    },
    {
      "cell_type": "code",
      "metadata": {
        "id": "vk71uZ1AsuI-",
        "colab_type": "code",
        "colab": {
          "base_uri": "https://localhost:8080/",
          "height": 283
        },
        "outputId": "ad29039f-6c9c-4d5d-d685-b80c6ccd36a2"
      },
      "source": [
        "import numpy as np\n",
        "import matplotlib.pyplot as plt\n",
        "from sklearn import datasets\n",
        "\n",
        "digits_data = datasets.load_digits() # scikit-learnから手書き文字のデータセットを読み込む\n",
        "\n",
        "n_img = 10 # 表示する画像の数\n",
        "plt.figure(figsize=(10, 4))\n",
        "for i in range(n_img):\n",
        "  ax = plt.subplot(2, 5, i+1) # 2行5列で表示する。i+1は表示位置。\n",
        "  plt.imshow(digits_data.data[i].reshape(8, 8), cmap=\"Greys_r\")\n",
        "  ax.get_xaxis().set_visible(False) # 軸を非表示に\n",
        "  ax.get_yaxis().set_visible(False)\n",
        "plt.show()\n",
        "\n",
        "print(\"データの形状:\", digits_data.data.shape)\n",
        "print(\"ラベル:\", digits_data.target[:n_img])"
      ],
      "execution_count": null,
      "outputs": [
        {
          "output_type": "display_data",
          "data": {
            "image/png": "[encoded data removed]",
            "text/plain": [
              "<Figure size 720x288 with 10 Axes>"
            ]
          },
          "metadata": {
            "tags": [],
            "needs_background": "light"
          }
        },
        {
          "output_type": "stream",
          "text": [
            "データの形状: (1797, 64)\n",
            "ラベル: [0 1 2 3 4 5 6 7 8 9]\n"
          ],
          "name": "stdout"
        }
      ]
    },
    {
      "cell_type": "markdown",
      "metadata": {
        "id": "QpHDXcTquvHd",
        "colab_type": "text"
      },
      "source": [
        "データの形状: (1797, 64)　：　1797枚の画像が入っている。8×8は横が8で縦が8の画像。\n",
        "それぞれの画像には0～9までのラベルがついている。"
      ]
    },
    {
      "cell_type": "markdown",
      "metadata": {
        "colab_type": "text",
        "id": "sFWHMOf2D4b1"
      },
      "source": [
        "8×8とサイズは小さいですが、0から9までの手書き数字の画像が表示されました。このような手書き数字の画像が、このデータセットには1797枚含まれています。  \n",
        "また、各画像は描かれた数字を表すラベルとペアになっています。  \n",
        "\n"
      ]
    },
    {
      "cell_type": "markdown",
      "metadata": {
        "id": "w40h1X0FXmrh",
        "colab_type": "text"
      },
      "source": [
        "## データを訓練用とテスト用に分割\n",
        "scikit-learnのtrain_test_splitを使って、データを訓練用とテストに分割します。"
      ]
    },
    {
      "cell_type": "code",
      "metadata": {
        "id": "1_cfbR33wst2",
        "colab_type": "code",
        "colab": {}
      },
      "source": [
        "import torch # PyTorch\n",
        "from sklearn.model_selection import train_test_split\n",
        "\n",
        "digit_images = digits_data.data # digits_dataから画像データを読み込む\n",
        "labels = digits_data.target # digits_dataからラベルを読み込む\n",
        "# 画像データとラベルを分割。\n",
        "# x_train：訓練用の入力、x_test：テスト用の入力、t_train：訓練用の正解、t_test：テスト用の正解\n",
        "# 分割する理由は、訓練用全てのデータに最適化してしまうと、訓練用データの範囲に無いデータに適用できないかもしれない。\n",
        "# 訓練用データに過剰に適用してしまう過学習が起こる可能性がある。それが起きてない事を確認するためにテスト用データを用意しておく。\n",
        "x_train, x_test, t_train, t_test = train_test_split(digit_images, labels) # 25%がテスト用（train_test_splitは特に設定をしないと、全体の25%がテスト用になる。）\n",
        "\n",
        "# 上記の状態ではnumpyの配列であるため、Tensorに変換する。（PyTorchで扱う際にはTensorに変換する必要がある。）\n",
        "x_train = torch.tensor(x_train, dtype=torch.float32) # 入力は小数に変換\n",
        "t_train = torch.tensor(t_train, dtype=torch.int64) # 正解は整数に変換\n",
        "x_test = torch.tensor(x_test, dtype=torch.float32) # 入力は小数に変換\n",
        "t_test = torch.tensor(t_test, dtype=torch.int64) # 正解は整数に変換"
      ],
      "execution_count": null,
      "outputs": []
    },
    {
      "cell_type": "markdown",
      "metadata": {
        "id": "FalXNYaJPkoE",
        "colab_type": "text"
      },
      "source": [
        "## モデルの構築\n",
        "`nn`モジュールの`Sequential`クラスによりモデルを構築します。"
      ]
    },
    {
      "cell_type": "code",
      "metadata": {
        "id": "lgp4kJ8ZztJ3",
        "colab_type": "code",
        "colab": {
          "base_uri": "https://localhost:8080/",
          "height": 136
        },
        "outputId": "e7df6625-cf90-450e-ca46-fbb016f31cd6"
      },
      "source": [
        "from torch import nn # torchのnnをインポート\n",
        "\n",
        "# nnのSequentialを使う。nnは直線状に様々な層が並んだモデルを作る時に非常に便利な機能。\n",
        "# Sequentialの引数として各層を渡すだけでモデルを作る事が出来る。\n",
        "net = nn.Sequential( # netという名前のモデルを構築。\n",
        "    nn.Linear(64, 32), # 全結合層 # 1つ入力に近い層とすべて接続されている層のこと。 # 入力の形状は8×8で64 次の中間層の入力が32になる。\n",
        "    nn.ReLU(), # 活性化関数 ReLU\n",
        "    nn.Linear(32, 16), # 中間層の入力が32、次の出力層の入力が16。\n",
        "    nn.ReLU(),\n",
        "    nn.Linear(16, 10) # 出力層の入力が16、出力層の出力が10。今回は0～9の10のクラスに分類するため、最後の層のニューロン数は10。\n",
        ")\n",
        "print(net) # モデルをprintすることで、どのような構成か表示できる。"
      ],
      "execution_count": null,
      "outputs": [
        {
          "output_type": "stream",
          "text": [
            "Sequential(\n",
            "  (0): Linear(in_features=64, out_features=32, bias=True)\n",
            "  (1): ReLU()\n",
            "  (2): Linear(in_features=32, out_features=16, bias=True)\n",
            "  (3): ReLU()\n",
            "  (4): Linear(in_features=16, out_features=10, bias=True)\n",
            ")\n"
          ],
          "name": "stdout"
        }
      ]
    },
    {
      "cell_type": "markdown",
      "metadata": {
        "id": "qsW5zCKhQE9p",
        "colab_type": "text"
      },
      "source": [
        "## 学習\n",
        "モデルを訓練します。  \n",
        "今回は、損失関数に交差エントロピー誤差を、最適化アルゴリズムにSGD（確率的勾配降下法）を設定します。  \n",
        "順伝播は訓練データ、テストデータ両者で行い誤差を計算します。  \n",
        "逆伝播を行うのは、訓練データのみです。  \n"
      ]
    },
    {
      "cell_type": "code",
      "metadata": {
        "id": "ACFuQ00s2rl3",
        "colab_type": "code",
        "colab": {
          "base_uri": "https://localhost:8080/",
          "height": 187
        },
        "outputId": "61b15804-1f37-402f-d263-3940ea0d6d03"
      },
      "source": [
        "from torch import optim # torchからoptimをインポート\n",
        "\n",
        "# 交差エントロピー誤差関数\n",
        "loss_fnc = nn.CrossEntropyLoss()\n",
        "\n",
        "# SGD # 最適化アルゴリズムはoptimから取り出せる。\n",
        "# SGDクラスでSGDを実装することが出来る。パラメータと学習率を設定する必要がある。\n",
        "# さきほどのnetモデルのパラメータを渡し、lr(learning rate)を0.01に設定。\n",
        "optimizer = optim.SGD(net.parameters(), lr=0.01)\n",
        "\n",
        "# 損失のログ(記録)\n",
        "record_loss_train = [] # 訓練用のデータを使って計算した損失\n",
        "record_loss_test = [] #テスト用のデータを使って計算した損失\n",
        "\n",
        "# 1000エポック学習 # 順伝播・逆伝播をしてパラメータを1回更新することを1エポックという。\n",
        "for i in range(1000):\n",
        "\n",
        "  # 勾配を0に設定 # これが無いと勾配が累積されてしまうため、ループごとに勾配を0にする必要がある。\n",
        "  optimizer.zero_grad()\n",
        "\n",
        "  # 順伝播 # モデル名の後に()をつけて入力を渡せばそれだけで順伝播が行える。\n",
        "  y_train = net(x_train)\n",
        "  y_test = net(x_test)\n",
        "\n",
        "  # 誤差を求める\n",
        "  loss_train = loss_fnc(y_train, t_train) # 出力と正解を渡す。\n",
        "  loss_test = loss_fnc(y_test, t_test) # 出力と正解を渡す。\n",
        "  record_loss_train.append(loss_train.item()) # それぞれを格納。後程グラフとして表示。 # tensorの数値を取り出す場合にはitem()が必要。\n",
        "  record_loss_test.append(loss_test.item()) # それぞれを格納。後程グラフとして表示。 # tensorの数値を取り出す場合にはitem()が必要。\n",
        "\n",
        "  # 逆伝播（勾配を求める）\n",
        "  loss_train.backward()\n",
        "\n",
        "  # 勾配に基づいてパラメータの更新\n",
        "  optimizer.step()\n",
        "\n",
        "  # 100エポックごとにエポック数と誤差を表示\n",
        "  if i%100 == 0:\n",
        "    print(\"Epoc:\", i, \"Loss_Train:\", loss_train.item(), \"Loss_Test:\", loss_test.item())"
      ],
      "execution_count": null,
      "outputs": [
        {
          "output_type": "stream",
          "text": [
            "Epoc: 0 Loss_Train: 2.4968719482421875 Loss_Test: 2.5003201961517334\n",
            "Epoc: 100 Loss_Train: 1.1244996786117554 Loss_Test: 1.1369291543960571\n",
            "Epoc: 200 Loss_Train: 0.5099847316741943 Loss_Test: 0.5284117460250854\n",
            "Epoc: 300 Loss_Train: 0.3162534832954407 Loss_Test: 0.341306209564209\n",
            "Epoc: 400 Loss_Train: 0.22530518472194672 Loss_Test: 0.2604508399963379\n",
            "Epoc: 500 Loss_Train: 0.17313776910305023 Loss_Test: 0.21875660121440887\n",
            "Epoc: 600 Loss_Train: 0.13903872668743134 Loss_Test: 0.19302791357040405\n",
            "Epoc: 700 Loss_Train: 0.11540261656045914 Loss_Test: 0.17583921551704407\n",
            "Epoc: 800 Loss_Train: 0.09815742075443268 Loss_Test: 0.16337887942790985\n",
            "Epoc: 900 Loss_Train: 0.084940105676651 Loss_Test: 0.15478545427322388\n"
          ],
          "name": "stdout"
        }
      ]
    },
    {
      "cell_type": "markdown",
      "metadata": {
        "id": "rJwwrWTw43rx",
        "colab_type": "text"
      },
      "source": [
        "## 誤差の推移\n",
        "訓練データ、テストデータで誤差の推移をグラフ表示します。  "
      ]
    },
    {
      "cell_type": "code",
      "metadata": {
        "id": "zg591d0k_xn3",
        "colab_type": "code",
        "colab": {
          "base_uri": "https://localhost:8080/",
          "height": 279
        },
        "outputId": "6a7a8e7d-5dc7-40cc-bbe4-2f4caf34e1f7"
      },
      "source": [
        "plt.plot(range(len(record_loss_train)), record_loss_train, label=\"Train\") # x軸はデータの数、rangeで0からデータの数-1まで並べる。y軸はrecord_loss_trainそのまま\n",
        "plt.plot(range(len(record_loss_test)), record_loss_test, label=\"Test\") # x軸はデータの数、rangeで0からデータの数-1まで並べる。y軸はrecord_loss_testそのまま\n",
        "plt.legend() # 凡例表示\n",
        "\n",
        "plt.xlabel(\"Epochs\") # X軸凡例\n",
        "plt.ylabel(\"Error\") # Y軸凡例\n",
        "plt.show()"
      ],
      "execution_count": null,
      "outputs": [
        {
          "output_type": "display_data",
          "data": {
            "image/png": "[encoded data removed]",
            "text/plain": [
              "<Figure size 432x288 with 1 Axes>"
            ]
          },
          "metadata": {
            "tags": [],
            "needs_background": "light"
          }
        }
      ]
    },
    {
      "cell_type": "markdown",
      "metadata": {
        "id": "Mvwj724UC39B",
        "colab_type": "text"
      },
      "source": [
        "訓練誤差、テスト誤差共に滑らかに減少している。\n",
        "もし、テスト誤差が訓練誤差と大きく離れていたら、過学習が起きている。"
      ]
    },
    {
      "cell_type": "markdown",
      "metadata": {
        "id": "iMrpac0m4Nct",
        "colab_type": "text"
      },
      "source": [
        "## 正解率\n",
        "モデルの性能を把握するため、テストデータ使いこのモデルは何%正解出来るのかという正解率を測定します。  "
      ]
    },
    {
      "cell_type": "code",
      "metadata": {
        "id": "VnrmZcvLGm4R",
        "colab_type": "code",
        "colab": {
          "base_uri": "https://localhost:8080/",
          "height": 34
        },
        "outputId": "b659ee51-32d1-4be6-af36-a7fe1162bfcb"
      },
      "source": [
        "y_test = net(x_test) # テスト用の入力を使って順伝播を行い、出力を計算する。この出力はどのクラス（数字）である確率が最も高いかを表す。\n",
        "\n",
        "# 最も確率の高い確率の数字をargmaxを用いて取り出す。\n",
        "# それが正解（t_test）と等しければTrueを返す。\n",
        "# Trueの数をsum()を使って数える。\n",
        "# item()でそれを数値に直す。\n",
        "count = (y_test.argmax(1) == t_test).sum().item() \n",
        "\n",
        "print(\"正解率:\", str(count/len(y_test)*100) + \"%\")"
      ],
      "execution_count": null,
      "outputs": [
        {
          "output_type": "stream",
          "text": [
            "正解率: 95.11111111111111%\n"
          ],
          "name": "stdout"
        }
      ]
    },
    {
      "cell_type": "markdown",
      "metadata": {
        "id": "LrRAJzwD4zpN",
        "colab_type": "text"
      },
      "source": [
        "## 訓練済みのモデルを使った予測\n",
        "訓練済みのモデルを使ってみましょう。  \n",
        "画像を入力し、モデルが機能していることを確かめます。"
      ]
    },
    {
      "cell_type": "code",
      "metadata": {
        "id": "znMmymIKHXVT",
        "colab_type": "code",
        "colab": {
          "base_uri": "https://localhost:8080/",
          "height": 282
        },
        "outputId": "32e9a8dc-ea64-47ae-c7a0-e27ada60535d"
      },
      "source": [
        "# 適当な画像を取り出して表示するコード\n",
        "# 全画像データの中の128番目の画像を表示\n",
        "img_id = 128\n",
        "x_pred = digit_images[img_id]\n",
        "image = x_pred.reshape(8, 8)\n",
        "plt.imshow(image, cmap=\"Greys_r\")\n",
        "plt.show()\n",
        "\n",
        "# それを入力として予測を行う\n",
        "x_pred = torch.tensor(x_pred, dtype=torch.float32)\n",
        "y_pred = net(x_pred)\n",
        "print(\"正解:\", labels[img_id], \"予測結果:\", y_pred.argmax().item())"
      ],
      "execution_count": null,
      "outputs": [
        {
          "output_type": "display_data",
          "data": {
            "image/png": "[encoded data removed]",
            "text/plain": [
              "<Figure size 432x288 with 1 Axes>"
            ]
          },
          "metadata": {
            "tags": [],
            "needs_background": "light"
          }
        },
        {
          "output_type": "stream",
          "text": [
            "正解: 9 予測結果: 9\n"
          ],
          "name": "stdout"
        }
      ]
    },
    {
      "cell_type": "markdown",
      "metadata": {
        "id": "maAJN2wa0l1D",
        "colab_type": "text"
      },
      "source": [
        "このような訓練済みのモデルは、別途保存しWebアプリなどで活用することができます。"
      ]
    }
  ]
}